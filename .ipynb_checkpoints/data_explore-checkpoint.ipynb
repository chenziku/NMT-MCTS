{
 "cells": [
  {
   "cell_type": "code",
   "execution_count": 9,
   "metadata": {},
   "outputs": [],
   "source": [
    "import scipy as sp\n",
    "import pandas as pd\n",
    "\n",
    "train_data = pd.read_csv(\"iwsltTokenizedData/combined_train.tsv\", sep=\"\\t\")\n",
    "validate_data = pd.read_csv(\"iwsltTokenizedData/combined_valid.tsv\", sep=\"\\t\")\n",
    "test_data = pd.read_csv(\"iwsltTokenizedData/combined_test.tsv\", sep=\"\\t\")"
   ]
  },
  {
   "cell_type": "code",
   "execution_count": 10,
   "metadata": {},
   "outputs": [
    {
     "name": "stdout",
     "output_type": "stream",
     "text": [
      "(149135, 2) (6764, 2) (6384, 2)\n"
     ]
    }
   ],
   "source": [
    "\n",
    "print(train_data.shape, validate_data.shape, test_data.shape)\n"
   ]
  },
  {
   "cell_type": "code",
   "execution_count": 19,
   "metadata": {},
   "outputs": [
    {
     "data": {
      "text/plain": [
       "'und diese einfachen themen sind eigentlich keine komplex@@ en wissenschaftlichen zusammen@@ hän@@ ge , sondern tat@@ sachen , die wir alle gut kennen .'"
      ]
     },
     "execution_count": 19,
     "metadata": {},
     "output_type": "execute_result"
    }
   ],
   "source": [
    "train_data.iloc[1,0]"
   ]
  },
  {
   "cell_type": "code",
   "execution_count": 20,
   "metadata": {},
   "outputs": [
    {
     "data": {
      "text/plain": [
       "'and those simple the@@ mes aren &apos;t really the@@ mes about the complex science of what &apos;s going on , but things that we all pretty well know .'"
      ]
     },
     "execution_count": 20,
     "metadata": {},
     "output_type": "execute_result"
    }
   ],
   "source": [
    "train_data.iloc[1,1]"
   ]
  },
  {
   "cell_type": "code",
   "execution_count": 24,
   "metadata": {},
   "outputs": [],
   "source": [
    "def fix_sentence(sentence):  \n",
    "    new_sentence = []\n",
    "    cur_word = ''\n",
    "    for p in sentence:\n",
    "      if '@@' in p:\n",
    "        cur_word += p[:-2]\n",
    "      else:\n",
    "        if cur_word != '':\n",
    "          new_sentence.append(cur_word+p)\n",
    "          cur_word = ''\n",
    "        elif '&' in p and ';' in p: #this means should be adding this onto last added word \n",
    "          if len(new_sentence) >0:\n",
    "            new_sentence[-1] = new_sentence[-1] + \"'\"+p.split(';')[1]\n",
    "          #OTHERWISE NOT SURE WHAT TO DO\n",
    "          else:\n",
    "            pass #NEED TO IMPLEMENT\n",
    "        else:\n",
    "          new_sentence.append(p)  \n",
    "    return new_sentence"
   ]
  },
  {
   "cell_type": "code",
   "execution_count": 28,
   "metadata": {},
   "outputs": [
    {
     "data": {
      "text/plain": [
       "['u',\n",
       " 'n',\n",
       " 'd',\n",
       " ' ',\n",
       " 'd',\n",
       " 'i',\n",
       " 'e',\n",
       " 's',\n",
       " 'e',\n",
       " ' ',\n",
       " 'e',\n",
       " 'i',\n",
       " 'n',\n",
       " 'f',\n",
       " 'a',\n",
       " 'c',\n",
       " 'h',\n",
       " 'e',\n",
       " 'n',\n",
       " ' ',\n",
       " 't',\n",
       " 'h',\n",
       " 'e',\n",
       " 'm',\n",
       " 'e',\n",
       " 'n',\n",
       " ' ',\n",
       " 's',\n",
       " 'i',\n",
       " 'n',\n",
       " 'd',\n",
       " ' ',\n",
       " 'e',\n",
       " 'i',\n",
       " 'g',\n",
       " 'e',\n",
       " 'n',\n",
       " 't',\n",
       " 'l',\n",
       " 'i',\n",
       " 'c',\n",
       " 'h',\n",
       " ' ',\n",
       " 'k',\n",
       " 'e',\n",
       " 'i',\n",
       " 'n',\n",
       " 'e',\n",
       " ' ',\n",
       " 'k',\n",
       " 'o',\n",
       " 'm',\n",
       " 'p',\n",
       " 'l',\n",
       " 'e',\n",
       " 'x',\n",
       " '@',\n",
       " '@',\n",
       " ' ',\n",
       " 'e',\n",
       " 'n',\n",
       " ' ',\n",
       " 'w',\n",
       " 'i',\n",
       " 's',\n",
       " 's',\n",
       " 'e',\n",
       " 'n',\n",
       " 's',\n",
       " 'c',\n",
       " 'h',\n",
       " 'a',\n",
       " 'f',\n",
       " 't',\n",
       " 'l',\n",
       " 'i',\n",
       " 'c',\n",
       " 'h',\n",
       " 'e',\n",
       " 'n',\n",
       " ' ',\n",
       " 'z',\n",
       " 'u',\n",
       " 's',\n",
       " 'a',\n",
       " 'm',\n",
       " 'm',\n",
       " 'e',\n",
       " 'n',\n",
       " '@',\n",
       " '@',\n",
       " ' ',\n",
       " 'h',\n",
       " 'ä',\n",
       " 'n',\n",
       " '@',\n",
       " '@',\n",
       " ' ',\n",
       " 'g',\n",
       " 'e',\n",
       " ' ',\n",
       " ',',\n",
       " ' ',\n",
       " 's',\n",
       " 'o',\n",
       " 'n',\n",
       " 'd',\n",
       " 'e',\n",
       " 'r',\n",
       " 'n',\n",
       " ' ',\n",
       " 't',\n",
       " 'a',\n",
       " 't',\n",
       " '@',\n",
       " '@',\n",
       " ' ',\n",
       " 's',\n",
       " 'a',\n",
       " 'c',\n",
       " 'h',\n",
       " 'e',\n",
       " 'n',\n",
       " ' ',\n",
       " ',',\n",
       " ' ',\n",
       " 'd',\n",
       " 'i',\n",
       " 'e',\n",
       " ' ',\n",
       " 'w',\n",
       " 'i',\n",
       " 'r',\n",
       " ' ',\n",
       " 'a',\n",
       " 'l',\n",
       " 'l',\n",
       " 'e',\n",
       " ' ',\n",
       " 'g',\n",
       " 'u',\n",
       " 't',\n",
       " ' ',\n",
       " 'k',\n",
       " 'e',\n",
       " 'n',\n",
       " 'n',\n",
       " 'e',\n",
       " 'n',\n",
       " ' ',\n",
       " '.']"
      ]
     },
     "execution_count": 28,
     "metadata": {},
     "output_type": "execute_result"
    }
   ],
   "source": [
    "fix_sentence([train_data.iloc[1,0]])"
   ]
  }
 ],
 "metadata": {
  "kernelspec": {
   "display_name": "Python 3",
   "language": "python",
   "name": "python3"
  },
  "language_info": {
   "codemirror_mode": {
    "name": "ipython",
    "version": 3
   },
   "file_extension": ".py",
   "mimetype": "text/x-python",
   "name": "python",
   "nbconvert_exporter": "python",
   "pygments_lexer": "ipython3",
   "version": "3.7.3"
  }
 },
 "nbformat": 4,
 "nbformat_minor": 2
}
